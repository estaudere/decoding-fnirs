{
 "cells": [
  {
   "cell_type": "code",
   "execution_count": 131,
   "metadata": {},
   "outputs": [
    {
     "name": "stdout",
     "output_type": "stream",
     "text": [
      "Total number of samples:  637\n",
      "Number of each label:  [317  32  32  32  32  32  32  32  32  32  32]\n",
      "Number of each label after dropping label 0:  [32 32 32 32 32 32 32 32 32 32 32]\n"
     ]
    }
   ],
   "source": [
    "import numpy as np\n",
    "import os\n",
    "\n",
    "SUBJECT_NAME = 'New10Subject1'\n",
    "\n",
    "# collect all data\n",
    "all_experiments = os.listdir(SUBJECT_NAME)\n",
    "data = [] # list of numpy arrays of shape (n_samples, 84, 93)\n",
    "labels = [] # list of numpy arrays of shape (n_samples, 1)\n",
    "for experiment in all_experiments:\n",
    "    data.append(np.load(os.path.join(SUBJECT_NAME, experiment, f'{experiment}PreprocessedData.npy')))\n",
    "    labels.append(np.load(os.path.join(SUBJECT_NAME, experiment, f'{experiment}Labels.npy'), allow_pickle=True))\n",
    "labels = [label[:-1, 2].astype('float').astype('int') for label in labels] # drop the last label to make it the same length as the data\n",
    "data = np.concatenate(data, axis=0)\n",
    "labels = np.concatenate(labels, axis=0)\n",
    "\n",
    "print(\"Total number of samples: \", data.shape[0])\n",
    "assert data.shape[0] == labels.shape[0], \"Data and labels have different lengths\"\n",
    "label_counts = np.bincount(labels)\n",
    "print(\"Number of each label: \", label_counts)\n",
    "\n",
    "# further data preprocessing\n",
    "random_32_label_0_indices = np.random.choice(np.where(labels == 0)[0], size=32, replace=False)\n",
    "final_indices = np.concatenate([random_32_label_0_indices, np.where(labels != 0)[0]])\n",
    "np.random.shuffle(final_indices)\n",
    "data = data[final_indices]\n",
    "labels = labels[final_indices]\n",
    "label_counts = np.bincount(labels)\n",
    "print(\"Number of each label after dropping label 0: \", label_counts)"
   ]
  },
  {
   "cell_type": "code",
   "execution_count": 132,
   "metadata": {},
   "outputs": [
    {
     "name": "stdout",
     "output_type": "stream",
     "text": [
      "Not setting metadata\n",
      "352 matching events found\n",
      "No baseline correction applied\n",
      "0 projection items activated\n"
     ]
    }
   ],
   "source": [
    "import mne\n",
    "\n",
    "# Events array: (n_events, 3) with [start_sample, 0, event_id]\n",
    "events = np.array([[i * data.shape[2], 0, label] for i, label in enumerate(labels)])\n",
    "\n",
    "# Create Epochs object\n",
    "# Define channel names (e.g., hbo1, hbr1, ..., hbo42, hbr42)\n",
    "channel_names = [f'{channel}{i + 1}' for i in range(42) for channel in ['hbo', 'hbr']]\n",
    "channel_types = [\"hbo\", \"hbr\"] * 42\n",
    "\n",
    "# Sampling rate\n",
    "sfreq = 6.1  # Hz\n",
    "info = mne.create_info(ch_names=channel_names, sfreq=sfreq, ch_types=channel_types)\n",
    "epochs = mne.EpochsArray(data, info, events=events)\n",
    "epochs = epochs.drop_channels(['hbo27', 'hbr27', 'hbo28', 'hbr28'])\n",
    "\n",
    "# remove label 0\n",
    "epochs = epochs[labels != 0]\n",
    "labels = labels[labels != 0]"
   ]
  },
  {
   "cell_type": "code",
   "execution_count": 133,
   "metadata": {},
   "outputs": [
    {
     "data": {
      "text/plain": [
       "(320, 20, 93)"
      ]
     },
     "execution_count": 133,
     "metadata": {},
     "output_type": "execute_result"
    }
   ],
   "source": [
    "# do some dimension reduction through PCA — find a way to decrease the number of channels\n",
    "from sklearn.decomposition import PCA\n",
    "from mne.decoding import UnsupervisedSpatialFilter\n",
    "pca = UnsupervisedSpatialFilter(PCA(n_components=20))\n",
    "data_pca = pca.fit_transform(epochs.pick(\"hbo\").get_data())\n",
    "data_pca.shape\n",
    "\n",
    "# data_pca = epochs.pick(\"hbr\").get_data()\n",
    "# data_pca.shape"
   ]
  },
  {
   "cell_type": "code",
   "execution_count": 134,
   "metadata": {},
   "outputs": [
    {
     "name": "stdout",
     "output_type": "stream",
     "text": [
      "(320, 60)\n",
      "Cross validation scores:  [0.09375 0.09375 0.09375 0.09375 0.0625 ]\n"
     ]
    },
    {
     "data": {
      "image/png": "[encoded data removed]",
      "text/plain": [
       "<Figure size 640x480 with 2 Axes>"
      ]
     },
     "metadata": {},
     "output_type": "display_data"
    }
   ],
   "source": [
    "# extract variance per channel as a feature\n",
    "# extract PSD per channel as a feature NOT YET \n",
    "# use this to evaluate a random forest classifier, a linear SVM, and a logitic regression\n",
    "\n",
    "\n",
    "# extract manual features: mean, variance, skewness, kurtosis, max, range\n",
    "\n",
    "from scipy.stats import skew, kurtosis\n",
    "\n",
    "def extract_features(data):\n",
    "    means = np.mean(data, axis=2)\n",
    "    variances = np.var(data, axis=2)\n",
    "    skews = skew(data, axis=2)\n",
    "    kurtoses = kurtosis(data, axis=2)\n",
    "    maxes = np.max(data, axis=2)\n",
    "    \n",
    "    features = np.concatenate([means, variances, maxes], axis=1)\n",
    "    return features\n",
    "\n",
    "features = extract_features(data_pca)\n",
    "print(features.shape)\n",
    "\n",
    "# evaluate a random forest classifier, also producing a confusion matrix to show the 10 classes\n",
    "\n",
    "from sklearn.ensemble import RandomForestClassifier\n",
    "from sklearn.model_selection import cross_val_score\n",
    "from sklearn.metrics import confusion_matrix\n",
    "from matplotlib import pyplot as plt\n",
    "\n",
    "clf = RandomForestClassifier(n_estimators=100)\n",
    "scores = cross_val_score(clf, features, labels, cv=5)\n",
    "print(\"Cross validation scores: \", scores)\n",
    "\n",
    "# confusion matrix\n",
    "from sklearn.model_selection import train_test_split\n",
    "X_train, X_test, y_train, y_test = train_test_split(features, labels, test_size=0.2)\n",
    "clf.fit(X_train, y_train)\n",
    "y_pred = clf.predict(X_test)\n",
    "conf_matrix = confusion_matrix(y_test, y_pred)\n",
    "plt.imshow(conf_matrix, cmap='Greens', interpolation='nearest')\n",
    "plt.colorbar()\n",
    "plt.show()"
   ]
  },
  {
   "cell_type": "code",
   "execution_count": 135,
   "metadata": {},
   "outputs": [
    {
     "data": {
      "text/plain": [
       "array([ 5,  9,  1,  5,  6,  7,  3,  8,  3,  7,  5,  3,  4,  3,  1,  8,  1,\n",
       "        8,  2, 10,  6,  7, 10,  6,  8,  6,  5,  6,  5,  8,  9,  1,  6,  3,\n",
       "        8,  3,  1,  2,  4,  7,  3,  7,  4,  4,  3,  8,  1,  7,  2,  9,  2,\n",
       "        1,  6, 10,  6, 10,  1, 10,  6,  1,  8,  8,  9,  6])"
      ]
     },
     "execution_count": 135,
     "metadata": {},
     "output_type": "execute_result"
    }
   ],
   "source": [
    "y_test"
   ]
  },
  {
   "cell_type": "code",
   "execution_count": 117,
   "metadata": {},
   "outputs": [
    {
     "data": {
      "text/plain": [
       "array([ 1,  1,  7,  8,  0,  0,  9,  1,  3,  5,  9,  7,  1,  1,  8,  1,  2,\n",
       "        2,  7,  8,  1,  7, 10,  5,  5,  6,  7,  8,  9,  7,  1,  1,  3,  1,\n",
       "        1,  1,  4,  6,  5,  1,  7,  2, 10,  0,  7,  3, 10,  8,  6,  7,  0,\n",
       "        6,  5,  1,  2,  1,  4, 10,  7,  0,  6,  5,  7,  1,  2,  2,  0,  1,\n",
       "        8,  3,  3])"
      ]
     },
     "execution_count": 117,
     "metadata": {},
     "output_type": "execute_result"
    }
   ],
   "source": [
    "y_pred"
   ]
  },
  {
   "cell_type": "code",
   "execution_count": null,
   "metadata": {},
   "outputs": [],
   "source": []
  }
 ],
 "metadata": {
  "kernelspec": {
   "display_name": "fnirs",
   "language": "python",
   "name": "python3"
  },
  "language_info": {
   "codemirror_mode": {
    "name": "ipython",
    "version": 3
   },
   "file_extension": ".py",
   "mimetype": "text/x-python",
   "name": "python",
   "nbconvert_exporter": "python",
   "pygments_lexer": "ipython3",
   "version": "3.10.16"
  }
 },
 "nbformat": 4,
 "nbformat_minor": 2
}
